{
 "cells": [
  {
   "cell_type": "markdown",
   "id": "2f6b77a5",
   "metadata": {},
   "source": [
    "### Developer Notes\n",
    "- As I do some architectural adjustments and improvements on passcrypt-safe-rework, I'll need some way to track things, and a developer notes file should help"
   ]
  },
  {
   "cell_type": "markdown",
   "id": "878cbb07",
   "metadata": {},
   "source": [
    "#### 10-29-2025\n",
    "- We have divided our components to the following:\n",
    "    - Classes - for the models. e.g. users, and accounts.\n",
    "    - Storage Utils - for interacting with the database directly.\n",
    "    - Initialize Database - for creating the database if it does not exist (presumably)\n",
    "    - Interface - for the frontend of the passcrypt safe rework cli\n",
    "    - Cryptography Utils - for hashing and encryption functions\n",
    "- We also have this idea of 'frontend plugins' that essentially replaces interface.py with note_encryption.py for note encryption functionalities. This is cool, but it feels weird.\n",
    "\n",
    "- After studying a bit more, there's this realization that there is no APIs in this project, meaning that the components essentially directly interact with the database, using storage utils. Resulting in somewhat messy calls. It is quite difficult to return back to the project because of this meaning that there is still a lot to improve in terms of this project's vision of being expandable.\n",
    "\n",
    "- Because of this we'll need some redos or revamps of the architecture:\n",
    "    - We'll work with the MVC standard this time, emulating what we've learned in creating simple APIs and creating a frontend using react or vanilla js. (Model View Controller)\n",
    "    - We'll work on fixing our interface implementation as it is brute forced with no sense of 'components' and division, which hinders the plugin idea we had."
   ]
  },
  {
   "cell_type": "markdown",
   "id": "82b0377b",
   "metadata": {},
   "source": []
  }
 ],
 "metadata": {
  "language_info": {
   "name": "python"
  }
 },
 "nbformat": 4,
 "nbformat_minor": 5
}
